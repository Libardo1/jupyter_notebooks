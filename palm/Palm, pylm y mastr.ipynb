{
 "cells": [
  {
   "cell_type": "markdown",
   "metadata": {
    "slideshow": {
     "slide_type": "slide"
    }
   },
   "source": [
    "# Pylm #\n",
    "\n",
    "Pylm es la implementación en Python de PALM, un framework (librería) para crear clusters de microservidores de altas prestaciones. Consta de dos niveles de abstracción\n",
    "\n",
    "1. Una API de alto nivel con servidores tipo que uno puede extender.\n",
    "\n",
    "2. Una API de bajo nivel para desarrollar servidores al uso.\n",
    "\n",
    "Esta presentación cubre el uso de la API de alto nivel."
   ]
  },
  {
   "cell_type": "markdown",
   "metadata": {
    "slideshow": {
     "slide_type": "slide"
    }
   },
   "source": [
    "El tipo más sencillo de servidor en pylm se comunica sólo con un cliente\n",
    "\n",
    "![](./fig/standalone_single.png)\n",
    "\n",
    "Y también es sencillo crear uno"
   ]
  },
  {
   "cell_type": "code",
   "execution_count": null,
   "metadata": {
    "collapsed": true,
    "slideshow": {
     "slide_type": "slide"
    }
   },
   "outputs": [],
   "source": [
    "from pylm.standalone import Server\n",
    "\n",
    "class MyServer(Server):\n",
    "    def foo(self, message):\n",
    "        self.logger.warning('Got a message')\n",
    "        return b'you sent me ' + message\n",
    "    \n",
    "server = MyServer('my_server', 'tcp://127.0.0.1:5555')\n",
    "server.start()"
   ]
  },
  {
   "cell_type": "code",
   "execution_count": null,
   "metadata": {
    "collapsed": true
   },
   "outputs": [],
   "source": [
    "from pylm.standalone import Client\n",
    "\n",
    "client = Client('tcp://127.0.0.1:5555', 'my_server')\n",
    "result = client.job('foo', b'a message')\n",
    "print('Client got: ', result)"
   ]
  },
  {
   "cell_type": "markdown",
   "metadata": {},
   "source": [
    "$> python client.py\n",
    "\n",
    "Client got: b'you sent me a message'"
   ]
  },
  {
   "cell_type": "markdown",
   "metadata": {
    "slideshow": {
     "slide_type": "slide"
    }
   },
   "source": [
    "# Lo que acaba de pasar #\n",
    "\n",
    "1. Hemos utilizado un servidor modelo de tipo *Server* para crear nuestro *MyServer*\n",
    "\n",
    "2. Hemos definido una función *foo* en *MyServer*\n",
    "\n",
    "3. Hemos arrancado el nuevo servidor en el puerto 5555.\n",
    "\n",
    "4. El cliente ha llamado la función *foo* y ha recogido el resultado."
   ]
  },
  {
   "cell_type": "markdown",
   "metadata": {
    "slideshow": {
     "slide_type": "slide"
    }
   },
   "source": [
    "# Las capacidades de Pylm #\n",
    "\n",
    "* Del mismo modo que tenemos la clase *Server* disponemos de otras clases de servidores que soportan otras topologías de comunicación\n",
    "\n",
    "* Cada servidor puede ser serial o paralelo\n",
    "\n",
    "  * Serial: el servidor es un único proceso\n",
    "  \n",
    "  * Paralelo: el servidor tiene una arquitectura master-worker.\n",
    "  \n",
    "* Múltiples modelos de conexión\n",
    "\n",
    "  * Standalone: conexión con un cliente\n",
    "  \n",
    "  * Chained: conexión con otros servidores\n",
    "  \n",
    "  * Pipelined: conexiones libres y manejados por la infraestructura"
   ]
  },
  {
   "cell_type": "markdown",
   "metadata": {
    "slideshow": {
     "slide_type": "slide"
    }
   },
   "source": [
    "# Un servidor standalone paralelo #\n",
    "\n",
    "![](./fig/standalone_parallel.png)"
   ]
  },
  {
   "cell_type": "code",
   "execution_count": 1,
   "metadata": {
    "collapsed": false,
    "slideshow": {
     "slide_type": "slide"
    }
   },
   "outputs": [],
   "source": [
    "from pylm.standalone import Master\n",
    "\n",
    "server = Master(name='server',\n",
    "                pull_address='tcp://127.0.0.1:5555',\n",
    "                push_address='tcp://127.0.0.1:5556',\n",
    "                worker_pull_address='tcp://127.0.0.1:5557',\n",
    "                worker_push_address='tcp://127.0.0.1:5558',\n",
    "                db_address='tcp://127.0.0.1:5559',\n",
    "                palm=True)\n"
   ]
  },
  {
   "cell_type": "code",
   "execution_count": 8,
   "metadata": {
    "collapsed": true
   },
   "outputs": [],
   "source": [
    "from pylm.standalone import Worker\n",
    "import sys\n",
    "\n",
    "\n",
    "class MyWorker(Worker):\n",
    "    def foo(self, message):\n",
    "        return self.name.encode('utf-8') + b' processed ' + message\n",
    "\n",
    "server = MyWorker(sys.argv[1],\n",
    "                  push_address='tcp://127.0.0.1:5558',\n",
    "                  pull_address='tcp://127.0.0.1:5557',\n",
    "                  db_address='tcp://127.0.0.1:5560')"
   ]
  },
  {
   "cell_type": "code",
   "execution_count": null,
   "metadata": {
    "collapsed": false
   },
   "outputs": [
    {
     "name": "stdout",
     "output_type": "stream",
     "text": [
      "Client with the following connections:\n",
      " *Listening to input from tcp://127.0.0.1:5556\n",
      " *Sending jobs to tcp://127.0.0.1:5555\n"
     ]
    }
   ],
   "source": [
    "from pylm.standalone import ParallelClient\n",
    "from itertools import repeat\n",
    "\n",
    "client = ParallelClient(push_address='tcp://127.0.0.1:5556',\n",
    "                        pull_address='tcp://127.0.0.1:5555',\n",
    "                        db_address='tcp://127.0.0.1:5559',\n",
    "                        server_name='server')\n",
    "\n",
    "if __name__ == '__main__':\n",
    "    for response in client.job('foo', repeat(b'a message', 10), messages=10):\n",
    "        print(response)"
   ]
  },
  {
   "cell_type": "markdown",
   "metadata": {
    "slideshow": {
     "slide_type": "slide"
    }
   },
   "source": [
    "# Varios servidores seriales encadenados #\n",
    "\n",
    "![](./fig/pipeline_single.png)"
   ]
  },
  {
   "cell_type": "markdown",
   "metadata": {
    "slideshow": {
     "slide_type": "slide"
    }
   },
   "source": [
    "# Servidores seriales y paralelos pueden combinarse #\n",
    "\n",
    "\n",
    "![](./fig/chained_combined.png)\n"
   ]
  },
  {
   "cell_type": "markdown",
   "metadata": {
    "slideshow": {
     "slide_type": "slide"
    }
   },
   "source": [
    "# Hay unos cuantos detalles relevantes #\n",
    "\n",
    "* Toda la comunicación entre clientes y servidores, y entre masters y workers se hace por mensajes binarios.\n",
    "\n",
    "* Pylm es un framework, proporciona las piezas para crear clusters de microservicios, pero no impone ninguna infraestructura (como Storm) ni ninguna topología de comunicación (como Spark)\n",
    "\n",
    "* Pylm proporciona componentes para centralizar logs, recoger información sobre el rendimiento del sistema, proporcionar tolerancia a fallos..."
   ]
  },
  {
   "cell_type": "markdown",
   "metadata": {
    "slideshow": {
     "slide_type": "slide"
    }
   },
   "source": [
    "# Mastr #\n",
    "\n",
    "Mastr utiliza Pylm para implementar el flujo valoración + agregación en paralelo\n",
    "\n",
    "![](./fig/mastr.png)\n"
   ]
  },
  {
   "cell_type": "markdown",
   "metadata": {
    "slideshow": {
     "slide_type": "slide"
    }
   },
   "source": [
    "# El flujo de datos en mastr #\n",
    "\n",
    "1. El cliente de valoración recibe la información de la cartera\n",
    "\n",
    "2. El master de valoración recibe la carga de trabajo, la distribuye entre los workers, y procesa el resultado\n",
    "\n",
    "3. Una vez cada resultado es procesado, se manda al master de agregación.\n",
    "\n",
    "4. La información de agregación se distribuye entre los workers.\n",
    "\n",
    "5. Las operaciones de agregación se realizan mediante un cliente en tiempo real con los datos disponibles."
   ]
  },
  {
   "cell_type": "markdown",
   "metadata": {
    "slideshow": {
     "slide_type": "slide"
    }
   },
   "source": [
    "# Más detalles importantes #\n",
    "\n",
    "* Los workers de valoración no tienen estado (si se caen no pasa nada). Los workers de agregación sí.\n",
    "\n",
    "* La información de valoración debe transformarse a un archivo JSON que cumple ciertas condciones.\n",
    "\n",
    "* Los resultados se van agregando a medida que están disponibles. No es necesario esperar a tener todas las valoraciones para realizar una agregación.\n",
    "\n",
    "* Los workers de agregación pueden realizar operaciones que requiere comunicación entre ellos (shuffle)"
   ]
  }
 ],
 "metadata": {
  "celltoolbar": "Slideshow",
  "kernelspec": {
   "display_name": "Python 3",
   "language": "python",
   "name": "python3"
  },
  "language_info": {
   "codemirror_mode": {
    "name": "ipython",
    "version": 3
   },
   "file_extension": ".py",
   "mimetype": "text/x-python",
   "name": "python",
   "nbconvert_exporter": "python",
   "pygments_lexer": "ipython3",
   "version": "3.5.2"
  }
 },
 "nbformat": 4,
 "nbformat_minor": 0
}
