{
 "cells": [
  {
   "cell_type": "markdown",
   "metadata": {},
   "source": [
    "# PALM, pylm y mastr\n",
    "\n",
    "## Guillem Borrell Nogueras\n",
    "\n",
    "## 17 de agosto de 2016"
   ]
  },
  {
   "cell_type": "markdown",
   "metadata": {
    "slideshow": {
     "slide_type": "slide"
    }
   },
   "source": [
    "# Pylm #\n",
    "\n",
    "Pylm es la implementación en Python de PALM, un framework (librería) para crear clusters de microservidores de altas prestaciones. Consta de dos niveles de abstracción\n",
    "\n",
    "1. Una API de alto nivel con servidores tipo que uno puede extender.\n",
    "\n",
    "2. Una API de bajo nivel para desarrollar servidores al uso.\n",
    "\n",
    "Esta presentación cubre el uso de la API de alto nivel."
   ]
  },
  {
   "cell_type": "markdown",
   "metadata": {
    "slideshow": {
     "slide_type": "slide"
    }
   },
   "source": [
    "El tipo más sencillo de servidor en pylm se comunica sólo con un cliente\n",
    "\n",
    "![](./fig/standalone_single.png)\n",
    "\n",
    "Y también es sencillo crear uno"
   ]
  },
  {
   "cell_type": "code",
   "execution_count": null,
   "metadata": {
    "collapsed": true,
    "slideshow": {
     "slide_type": "slide"
    }
   },
   "outputs": [],
   "source": [
    "from pylm.standalone import Server\n",
    "\n",
    "class MyServer(Server):\n",
    "    def foo(self, message):\n",
    "        self.logger.warning('Got a message')\n",
    "        return b'you sent me ' + message\n",
    "    \n",
    "server = MyServer('my_server', 'tcp://127.0.0.1:5555')\n",
    "server.start()"
   ]
  },
  {
   "cell_type": "code",
   "execution_count": null,
   "metadata": {
    "collapsed": true
   },
   "outputs": [],
   "source": [
    "from pylm.standalone import Client\n",
    "\n",
    "client = Client('tcp://127.0.0.1:5555', 'my_server')\n",
    "result = client.job('foo', b'a message')\n",
    "print('Client got: ', result)"
   ]
  },
  {
   "cell_type": "markdown",
   "metadata": {},
   "source": [
    "$> python client.py\n",
    "\n",
    "Client got: b'you sent me a message'"
   ]
  },
  {
   "cell_type": "markdown",
   "metadata": {
    "slideshow": {
     "slide_type": "slide"
    }
   },
   "source": [
    "# Lo que acaba de pasar #\n",
    "\n",
    "1. Hemos utilizado un servidor modelo de tipo *Server* para crear nuestro *MyServer*\n",
    "\n",
    "2. Hemos definido una función *foo* en *MyServer*\n",
    "\n",
    "3. Hemos arrancado el nuevo servidor en el puerto 5555.\n",
    "\n",
    "4. El cliente ha llamado la función *foo* y ha recogido el resultado."
   ]
  },
  {
   "cell_type": "markdown",
   "metadata": {
    "slideshow": {
     "slide_type": "slide"
    }
   },
   "source": [
    "# Las capacidades de Pylm #\n",
    "\n",
    "* Del mismo modo que tenemos la clase *Server* disponemos de otras clases de servidores que soportan otras topologías de comunicación\n",
    "\n",
    "* Cada servidor puede ser serial o paralelo\n",
    "\n",
    "  * Serial: el servidor es un único proceso\n",
    "  \n",
    "  * Paralelo: el servidor tiene una arquitectura master-worker.\n",
    "  \n",
    "* Múltiples modelos de conexión\n",
    "\n",
    "  * Standalone: conexión con un cliente\n",
    "  \n",
    "  * Chained: conexión con otros servidores\n",
    "  \n",
    "  * Pipelined: conexiones libres y manejados por la infraestructura"
   ]
  },
  {
   "cell_type": "markdown",
   "metadata": {
    "slideshow": {
     "slide_type": "slide"
    }
   },
   "source": [
    "# Un servidor standalone paralelo #\n",
    "\n",
    "![](./fig/standalone_parallel.png)"
   ]
  },
  {
   "cell_type": "code",
   "execution_count": 1,
   "metadata": {
    "collapsed": false,
    "slideshow": {
     "slide_type": "slide"
    }
   },
   "outputs": [],
   "source": [
    "from pylm.standalone import Master\n",
    "\n",
    "server = Master(name='server',\n",
    "                pull_address='tcp://127.0.0.1:5555',\n",
    "                push_address='tcp://127.0.0.1:5556',\n",
    "                worker_pull_address='tcp://127.0.0.1:5557',\n",
    "                worker_push_address='tcp://127.0.0.1:5558',\n",
    "                db_address='tcp://127.0.0.1:5559',\n",
    "                palm=True)\n"
   ]
  },
  {
   "cell_type": "code",
   "execution_count": 8,
   "metadata": {
    "collapsed": true
   },
   "outputs": [],
   "source": [
    "from pylm.standalone import Worker\n",
    "import sys\n",
    "\n",
    "class MyWorker(Worker):\n",
    "    def foo(self, message):\n",
    "        return self.name.encode('utf-8') + b' processed ' + message\n",
    "\n",
    "server = MyWorker(sys.argv[1],\n",
    "                  push_address='tcp://127.0.0.1:5558',\n",
    "                  pull_address='tcp://127.0.0.1:5557',\n",
    "                  db_address='tcp://127.0.0.1:5560')"
   ]
  },
  {
   "cell_type": "code",
   "execution_count": 4,
   "metadata": {
    "collapsed": false
   },
   "outputs": [],
   "source": [
    "from pylm.standalone import ParallelClient\n",
    "from itertools import repeat\n",
    "\n",
    "client = ParallelClient(push_address='tcp://127.0.0.1:5556',\n",
    "                        pull_address='tcp://127.0.0.1:5555',\n",
    "                        db_address='tcp://127.0.0.1:5559',\n",
    "                        server_name='server')\n",
    "\n",
    "if __name__ == '__main__':\n",
    "    for response in client.job('foo', repeat(b'a message', 10), messages=10):\n",
    "        print(response)"
   ]
  },
  {
   "cell_type": "markdown",
   "metadata": {
    "slideshow": {
     "slide_type": "slide"
    }
   },
   "source": [
    "# Varios servidores seriales encadenados #\n",
    "\n",
    "![](./fig/pipeline_single.png)"
   ]
  },
  {
   "cell_type": "code",
   "execution_count": null,
   "metadata": {
    "collapsed": true,
    "slideshow": {
     "slide_type": "slide"
    }
   },
   "outputs": [],
   "source": [
    "from pylm.chained import Server\n",
    "\n",
    "class Step1(Server):\n",
    "    def foo(self, message):\n",
    "        self.logger.warning('Got a message')\n",
    "        return b'you sent me ' + message\n",
    "\n",
    "server = Step1(name='step1', pull_address='tcp://127.0.0.1:5555',\n",
    "               next_address='tcp://127.0.0.1:5557',\n",
    "               next_call='step2.bar',\n",
    "               db_address='tcp://127.0.0.1:5556')"
   ]
  },
  {
   "cell_type": "code",
   "execution_count": null,
   "metadata": {
    "collapsed": true
   },
   "outputs": [],
   "source": [
    "from pylm.chained import LastServer\n",
    "\n",
    "class Last(LastServer):\n",
    "    def baz(self, message):\n",
    "        self.logger.warning('Got a message')\n",
    "        return b'ACK: ' + message\n",
    "\n",
    "server = Last(name='last', pull_address='tcp://127.0.0.1:5559',\n",
    "              push_address='tcp://127.0.0.1:5561',\n",
    "              db_address='tcp://127.0.0.1:5560')"
   ]
  },
  {
   "cell_type": "code",
   "execution_count": null,
   "metadata": {
    "collapsed": true
   },
   "outputs": [],
   "source": [
    "from pylm.chained import LoopClient\n",
    "\n",
    "client = LoopClient(push_address='tcp://127.0.0.1:5561',\n",
    "                    pull_address='tcp://127.0.0.1:5555',\n",
    "                    db_address='tcp://127.0.0.1:5556',\n",
    "                    server_name='step1')\n",
    "\n",
    "if __name__ == '__main__':\n",
    "    for result in client.job('foo', [b'a message'], messages=1):\n",
    "        print('Client got: ', result)"
   ]
  },
  {
   "cell_type": "markdown",
   "metadata": {
    "slideshow": {
     "slide_type": "slide"
    }
   },
   "source": [
    "# Servidores seriales y paralelos pueden combinarse #\n",
    "\n",
    "\n",
    "![](./fig/chained_combined.png)\n"
   ]
  },
  {
   "cell_type": "markdown",
   "metadata": {
    "slideshow": {
     "slide_type": "slide"
    }
   },
   "source": [
    "# Hay unos cuantos detalles relevantes #\n",
    "\n",
    "* Toda la comunicación entre clientes y servidores, y entre masters y workers se hace por mensajes binarios.\n",
    "\n",
    "* Pylm es un framework, proporciona las piezas para crear clusters de microservicios, pero no impone ninguna infraestructura (como Storm) ni ninguna topología de comunicación (como Spark)\n",
    "\n",
    "* Pylm proporciona componentes para\n",
    "\n",
    "  * Centralizar logs\n",
    "  \n",
    "  * Recoger información sobre el rendimiento del sistema (performance counters)\n",
    "  \n",
    "  * Proporcionar tolerancia a fallos para los workers\n",
    "  \n",
    "  * Persistencia en el master, en memoria y en disco.\n",
    "  \n",
    "  * ..."
   ]
  },
  {
   "cell_type": "markdown",
   "metadata": {
    "slideshow": {
     "slide_type": "slide"
    }
   },
   "source": [
    "# Mastr #\n",
    "\n",
    "Mastr utiliza Pylm para implementar el flujo valoración + agregación en paralelo\n",
    "\n",
    "![](./fig/mastr.png)\n"
   ]
  },
  {
   "cell_type": "markdown",
   "metadata": {
    "slideshow": {
     "slide_type": "slide"
    }
   },
   "source": [
    "# El flujo de datos en mastr #\n",
    "\n",
    "1. El cliente de valoración recibe la información de la cartera\n",
    "\n",
    "2. El master de valoración recibe la carga de trabajo, la distribuye entre los workers, y procesa el resultado\n",
    "\n",
    "3. Una vez cada resultado es procesado, se manda al master de agregación.\n",
    "\n",
    "4. La información de agregación se distribuye entre los workers.\n",
    "\n",
    "5. Las operaciones de agregación se realizan mediante un cliente en tiempo real con los datos disponibles."
   ]
  },
  {
   "cell_type": "markdown",
   "metadata": {
    "slideshow": {
     "slide_type": "slide"
    }
   },
   "source": [
    "# Más detalles importantes #\n",
    "\n",
    "* Los workers de valoración no tienen estado (si se caen no pasa nada). Los workers de agregación sí.\n",
    "\n",
    "* La información de valoración debe transformarse a un archivo JSON que cumple ciertas condciones.\n",
    "\n",
    "* Los resultados se van agregando a medida que están disponibles. No es necesario esperar a tener todas las valoraciones para realizar una agregación.\n",
    "\n",
    "* Los workers de agregación pueden realizar operaciones que requiere comunicación entre ellos (shuffle)"
   ]
  },
  {
   "cell_type": "markdown",
   "metadata": {
    "slideshow": {
     "slide_type": "slide"
    }
   },
   "source": [
    "# Conclusiones #\n",
    "\n",
    "* La API de alto nivel de pylm es funcional. Aunque la API está en $\\beta$.\n",
    "\n",
    "* Sirve para crear servidores, masters, workers y clientes con topologías de comunicación sencillas.\n",
    "\n",
    "* Es fácil de usar y ha demostrado tener un rendimiento excelente.\n",
    "\n",
    "* Mastr sugiere que pylm tiene mucho potencial.\n",
    "\n",
    "**Scais está siendo portado a pylm usando la API de bajo nivel**"
   ]
  }
 ],
 "metadata": {
  "celltoolbar": "Slideshow",
  "kernelspec": {
   "display_name": "Python 3",
   "language": "python",
   "name": "python3"
  },
  "language_info": {
   "codemirror_mode": {
    "name": "ipython",
    "version": 3
   },
   "file_extension": ".py",
   "mimetype": "text/x-python",
   "name": "python",
   "nbconvert_exporter": "python",
   "pygments_lexer": "ipython3",
   "version": "3.5.2"
  }
 },
 "nbformat": 4,
 "nbformat_minor": 0
}
