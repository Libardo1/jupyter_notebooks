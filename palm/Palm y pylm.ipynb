{
 "cells": [
  {
   "cell_type": "markdown",
   "metadata": {
    "slideshow": {
     "slide_type": "slide"
    }
   },
   "source": [
    "# Pylm #\n",
    "\n",
    "Pylm es la implentación en Python de PALM, un framework (librería) para crear clusters de microservidores de altas prestaciones. Consta de dos niveles de abstracción\n",
    "\n",
    "1. Una API de alto nivel con servidores tipo que uno puede extender.\n",
    "\n",
    "2. Una API de bajo nivel para desarrollar servidores al uso.\n",
    "\n",
    "Esta presentación cubre el uso de la API de alto nivel."
   ]
  },
  {
   "cell_type": "markdown",
   "metadata": {},
   "source": [
    "El tipo más sencillo de servidor "
   ]
  }
 ],
 "metadata": {
  "celltoolbar": "Slideshow",
  "kernelspec": {
   "display_name": "Python 3",
   "language": "python",
   "name": "python3"
  },
  "language_info": {
   "codemirror_mode": {
    "name": "ipython",
    "version": 3
   },
   "file_extension": ".py",
   "mimetype": "text/x-python",
   "name": "python",
   "nbconvert_exporter": "python",
   "pygments_lexer": "ipython3",
   "version": "3.5.2"
  }
 },
 "nbformat": 4,
 "nbformat_minor": 0
}
