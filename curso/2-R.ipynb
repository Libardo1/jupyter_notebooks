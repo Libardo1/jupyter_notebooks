{
 "cells": [
  {
   "cell_type": "code",
   "execution_count": 1,
   "metadata": {
    "collapsed": false
   },
   "outputs": [
    {
     "data": {
      "text/html": [
       "<table>\n",
       "<thead><tr><th></th><th scope=col>SepalLength</th><th scope=col>SepalWidth</th><th scope=col>PetalLength</th><th scope=col>PetalWidth</th><th scope=col>Name</th></tr></thead>\n",
       "<tbody>\n",
       "\t<tr><th scope=row>1</th><td>5.1        </td><td>3.5        </td><td>1.4        </td><td>0.2        </td><td>Iris-setosa</td></tr>\n",
       "\t<tr><th scope=row>2</th><td>4.9        </td><td>3          </td><td>1.4        </td><td>0.2        </td><td>Iris-setosa</td></tr>\n",
       "\t<tr><th scope=row>3</th><td>4.7        </td><td>3.2        </td><td>1.3        </td><td>0.2        </td><td>Iris-setosa</td></tr>\n",
       "\t<tr><th scope=row>4</th><td>4.6        </td><td>3.1        </td><td>1.5        </td><td>0.2        </td><td>Iris-setosa</td></tr>\n",
       "\t<tr><th scope=row>5</th><td>5          </td><td>3.6        </td><td>1.4        </td><td>0.2        </td><td>Iris-setosa</td></tr>\n",
       "\t<tr><th scope=row>6</th><td>5.4        </td><td>3.9        </td><td>1.7        </td><td>0.4        </td><td>Iris-setosa</td></tr>\n",
       "</tbody>\n",
       "</table>\n"
      ],
      "text/latex": [
       "\\begin{tabular}{r|lllll}\n",
       "  & SepalLength & SepalWidth & PetalLength & PetalWidth & Name\\\\\n",
       "\\hline\n",
       "\t1 & 5.1         & 3.5         & 1.4         & 0.2         & Iris-setosa\\\\\n",
       "\t2 & 4.9         & 3           & 1.4         & 0.2         & Iris-setosa\\\\\n",
       "\t3 & 4.7         & 3.2         & 1.3         & 0.2         & Iris-setosa\\\\\n",
       "\t4 & 4.6         & 3.1         & 1.5         & 0.2         & Iris-setosa\\\\\n",
       "\t5 & 5           & 3.6         & 1.4         & 0.2         & Iris-setosa\\\\\n",
       "\t6 & 5.4         & 3.9         & 1.7         & 0.4         & Iris-setosa\\\\\n",
       "\\end{tabular}\n"
      ],
      "text/plain": [
       "  SepalLength SepalWidth PetalLength PetalWidth        Name\n",
       "1         5.1        3.5         1.4        0.2 Iris-setosa\n",
       "2         4.9        3.0         1.4        0.2 Iris-setosa\n",
       "3         4.7        3.2         1.3        0.2 Iris-setosa\n",
       "4         4.6        3.1         1.5        0.2 Iris-setosa\n",
       "5         5.0        3.6         1.4        0.2 Iris-setosa\n",
       "6         5.4        3.9         1.7        0.4 Iris-setosa"
      ]
     },
     "metadata": {},
     "output_type": "display_data"
    }
   ],
   "source": [
    "iris <- read.csv('data/iris.csv')\n",
    "names(iris) <- c(\"SepalLength\", \"SepalWidth\", \"PetalLength\", \"PetalWidth\", \"Name\")\n",
    "head(iris)"
   ]
  },
  {
   "cell_type": "code",
   "execution_count": 2,
   "metadata": {
    "collapsed": false
   },
   "outputs": [
    {
     "data": {
      "text/plain": [
       "  SepalLength      SepalWidth     PetalLength      PetalWidth   \n",
       " Min.   :4.300   Min.   :2.000   Min.   :1.000   Min.   :0.100  \n",
       " 1st Qu.:5.100   1st Qu.:2.800   1st Qu.:1.600   1st Qu.:0.300  \n",
       " Median :5.800   Median :3.000   Median :4.350   Median :1.300  \n",
       " Mean   :5.843   Mean   :3.054   Mean   :3.759   Mean   :1.199  \n",
       " 3rd Qu.:6.400   3rd Qu.:3.300   3rd Qu.:5.100   3rd Qu.:1.800  \n",
       " Max.   :7.900   Max.   :4.400   Max.   :6.900   Max.   :2.500  \n",
       "              Name   \n",
       " Iris-setosa    :50  \n",
       " Iris-versicolor:50  \n",
       " Iris-virginica :50  \n",
       "                     \n",
       "                     \n",
       "                     "
      ]
     },
     "metadata": {},
     "output_type": "display_data"
    }
   ],
   "source": [
    "summary(iris)"
   ]
  },
  {
   "cell_type": "code",
   "execution_count": 3,
   "metadata": {
    "collapsed": false
   },
   "outputs": [
    {
     "data": {
      "text/html": [
       "'Iris setosa'"
      ],
      "text/latex": [
       "'Iris setosa'"
      ],
      "text/markdown": [
       "'Iris setosa'"
      ],
      "text/plain": [
       "[1] \"Iris setosa\""
      ]
     },
     "metadata": {},
     "output_type": "display_data"
    },
    {
     "data": {
      "text/plain": [
       "  SepalLength      SepalWidth     PetalLength      PetalWidth   \n",
       " Min.   :4.300   Min.   :2.300   Min.   :1.000   Min.   :0.100  \n",
       " 1st Qu.:4.800   1st Qu.:3.125   1st Qu.:1.400   1st Qu.:0.200  \n",
       " Median :5.000   Median :3.400   Median :1.500   Median :0.200  \n",
       " Mean   :5.006   Mean   :3.418   Mean   :1.464   Mean   :0.244  \n",
       " 3rd Qu.:5.200   3rd Qu.:3.675   3rd Qu.:1.575   3rd Qu.:0.300  \n",
       " Max.   :5.800   Max.   :4.400   Max.   :1.900   Max.   :0.600  \n",
       "              Name   \n",
       " Iris-setosa    :50  \n",
       " Iris-versicolor: 0  \n",
       " Iris-virginica : 0  \n",
       "                     \n",
       "                     \n",
       "                     "
      ]
     },
     "metadata": {},
     "output_type": "display_data"
    },
    {
     "data": {
      "text/html": [
       "'Iris versicolor'"
      ],
      "text/latex": [
       "'Iris versicolor'"
      ],
      "text/markdown": [
       "'Iris versicolor'"
      ],
      "text/plain": [
       "[1] \"Iris versicolor\""
      ]
     },
     "metadata": {},
     "output_type": "display_data"
    },
    {
     "data": {
      "text/plain": [
       "  SepalLength      SepalWidth     PetalLength     PetalWidth   \n",
       " Min.   :4.900   Min.   :2.000   Min.   :3.00   Min.   :1.000  \n",
       " 1st Qu.:5.600   1st Qu.:2.525   1st Qu.:4.00   1st Qu.:1.200  \n",
       " Median :5.900   Median :2.800   Median :4.35   Median :1.300  \n",
       " Mean   :5.936   Mean   :2.770   Mean   :4.26   Mean   :1.326  \n",
       " 3rd Qu.:6.300   3rd Qu.:3.000   3rd Qu.:4.60   3rd Qu.:1.500  \n",
       " Max.   :7.000   Max.   :3.400   Max.   :5.10   Max.   :1.800  \n",
       "              Name   \n",
       " Iris-setosa    : 0  \n",
       " Iris-versicolor:50  \n",
       " Iris-virginica : 0  \n",
       "                     \n",
       "                     \n",
       "                     "
      ]
     },
     "metadata": {},
     "output_type": "display_data"
    },
    {
     "data": {
      "text/html": [
       "'Iris virginica'"
      ],
      "text/latex": [
       "'Iris virginica'"
      ],
      "text/markdown": [
       "'Iris virginica'"
      ],
      "text/plain": [
       "[1] \"Iris virginica\""
      ]
     },
     "metadata": {},
     "output_type": "display_data"
    },
    {
     "data": {
      "text/plain": [
       "  SepalLength      SepalWidth     PetalLength      PetalWidth   \n",
       " Min.   :4.900   Min.   :2.200   Min.   :4.500   Min.   :1.400  \n",
       " 1st Qu.:6.225   1st Qu.:2.800   1st Qu.:5.100   1st Qu.:1.800  \n",
       " Median :6.500   Median :3.000   Median :5.550   Median :2.000  \n",
       " Mean   :6.588   Mean   :2.974   Mean   :5.552   Mean   :2.026  \n",
       " 3rd Qu.:6.900   3rd Qu.:3.175   3rd Qu.:5.875   3rd Qu.:2.300  \n",
       " Max.   :7.900   Max.   :3.800   Max.   :6.900   Max.   :2.500  \n",
       "              Name   \n",
       " Iris-setosa    : 0  \n",
       " Iris-versicolor: 0  \n",
       " Iris-virginica :50  \n",
       "                     \n",
       "                     \n",
       "                     "
      ]
     },
     "metadata": {},
     "output_type": "display_data"
    }
   ],
   "source": [
    "setosa <- iris[iris$Name == \"Iris-setosa\",]\n",
    "\"Iris setosa\"\n",
    "summary(setosa)\n",
    "\n",
    "setosa <- iris[iris$Name == \"Iris-versicolor\",]\n",
    "\"Iris versicolor\"\n",
    "summary(setosa)\n",
    "\n",
    "setosa <- iris[iris$Name == \"Iris-virginica\",]\n",
    "\"Iris virginica\"\n",
    "summary(setosa)"
   ]
  },
  {
   "cell_type": "code",
   "execution_count": 4,
   "metadata": {
    "collapsed": false
   },
   "outputs": [
    {
     "name": "stderr",
     "output_type": "stream",
     "text": [
      "Installing package into ‘/home/guillem/R/x86_64-pc-linux-gnu-library/3.3’\n",
      "(as ‘lib’ is unspecified)\n"
     ]
    }
   ],
   "source": [
    "install.packages(\"ggvis\")"
   ]
  },
  {
   "cell_type": "code",
   "execution_count": 5,
   "metadata": {
    "collapsed": false
   },
   "outputs": [
    {
     "data": {
      "text/plain": []
     },
     "metadata": {},
     "output_type": "display_data"
    }
   ],
   "source": [
    "library(ggvis)\n",
    "options(jupyter.plot_mimetypes = 'image/png')\n",
    "iris %>% ggvis(~SepalLength, ~SepalWidth, fill = ~Name) %>% layer_points()"
   ]
  }
 ],
 "metadata": {
  "kernelspec": {
   "display_name": "R",
   "language": "R",
   "name": "ir"
  },
  "language_info": {
   "codemirror_mode": "r",
   "file_extension": ".r",
   "mimetype": "text/x-r-source",
   "name": "R",
   "pygments_lexer": "r",
   "version": "3.3.1"
  }
 },
 "nbformat": 4,
 "nbformat_minor": 0
}
