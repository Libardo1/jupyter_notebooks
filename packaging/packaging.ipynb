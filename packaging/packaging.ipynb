{
 "cells": [
  {
   "cell_type": "markdown",
   "metadata": {
    "slideshow": {
     "slide_type": "slide"
    }
   },
   "source": [
    "# Python packaging #\n",
    "\n",
    "* Estructura de un proyecto Python\n",
    "\n",
    "* Organización de un paquete y un módulo\n",
    "\n",
    "* Documentación de un proyecto\n",
    "\n",
    "* Instalación y vendoring\n",
    "\n",
    "    * El ecosistema PYPI y setuptools\n",
    "    \n",
    "    * ``pip``"
   ]
  },
  {
   "cell_type": "markdown",
   "metadata": {
    "slideshow": {
     "slide_type": "slide"
    }
   },
   "source": [
    "~~~~\n",
    "guillem@nfqbabe> ls -ltra                            ~/projects/pylm\n",
    "total 100\n",
    "-rw-r--r--  1 guillem users 35141 Mar 10 09:14 LICENSE\n",
    "drwxr-xr-x  2 guillem users  4096 Jun 10 07:15 pylm.egg-info\n",
    "drwxr-xr-x  7 guillem users  4096 Jun 16 07:59 tests\n",
    "drwxr-xr-x  5 guillem users  4096 Aug  8 12:33 build\n",
    "-rw-r--r--  1 guillem users   841 Aug 10 16:10 .gitignore\n",
    "drwxr-xr-x  4 guillem users  4096 Aug 11 09:38 docs\n",
    "-rw-r--r--  1 guillem users  1194 Aug 16 09:56 README.rst\n",
    "-rw-r--r--  1 guillem users  1136 Aug 16 10:19 setup.py\n",
    "drwxr-xr-x  2 guillem users  4096 Aug 16 10:20 dist\n",
    "drwxr-xr-x  9 guillem users  4096 Aug 17 08:23 pylm\n",
    "drwxr-xr-x 18 guillem users  4096 Aug 18 12:39 ..\n",
    "~~~~"
   ]
  },
  {
   "cell_type": "code",
   "execution_count": null,
   "metadata": {
    "collapsed": false,
    "slideshow": {
     "slide_type": "slide"
    }
   },
   "outputs": [],
   "source": [
    "#!/usr/bin/env python\n",
    "\n",
    "from setuptools import setup\n",
    "\n",
    "setup(name='pylm',\n",
    "      version='0.6.21',\n",
    "      description='A framework to build clusters of high performance microservices',\n",
    "      author='Guillem Borrell',\n",
    "      author_email='guillem.borrell@nfq.es',\n",
    "      packages=['pylm',\n",
    "                'pylm.components',\n",
    "                'pylm.persistence',\n",
    "                'pylm.standalone',\n",
    "                'pylm.chained',\n",
    "                'pylm.pipelined'],\n",
    "      classifiers=[\n",
    "          'Development Status :: 4 - Beta',\n",
    "          'Environment :: Console',\n",
    "          'Intended Audience :: Developers',\n",
    "          'Operating System :: POSIX',\n",
    "          'Programming Language :: Python',\n",
    "          'License :: OSI Approved :: GNU Lesser General Public License v3 or later (LGPLv3+)',\n",
    "          'Topic :: System :: Distributed Computing',\n",
    "          'Programming Language :: Python :: 3',\n",
    "          'Programming Language :: Python :: 3.4',\n",
    "          'Programming Language :: Python :: 3.5'\n",
    "      ],\n",
    "      install_requires=['protobuf>=3.0.0', 'requests', 'pyzmq', 'requests']\n",
    "      )\n"
   ]
  }
 ],
 "metadata": {
  "celltoolbar": "Slideshow",
  "kernelspec": {
   "display_name": "Python 3",
   "language": "python",
   "name": "python3"
  },
  "language_info": {
   "codemirror_mode": {
    "name": "ipython",
    "version": 3
   },
   "file_extension": ".py",
   "mimetype": "text/x-python",
   "name": "python",
   "nbconvert_exporter": "python",
   "pygments_lexer": "ipython3",
   "version": "3.5.2"
  }
 },
 "nbformat": 4,
 "nbformat_minor": 0
}
