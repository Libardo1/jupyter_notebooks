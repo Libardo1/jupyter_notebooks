{
 "cells": [
  {
   "cell_type": "markdown",
   "metadata": {},
   "source": [
    "This notebook contains some basic test and basic usages for developing grouping/merge algoritms for the given data.\n",
    "> Use this [link](http://nbviewer.jupyter.org/github/ekergy/jupyter_notebooks/blob/master/other_examples/BasicTests.ipynb) to visualize this information properly.\n",
    "\n",
    "> This is part of [cosimtracpro project](https://bitbucket.org/ekergy/cosimtracpro/overview)\n",
    "\n",
    "Putting reader into context:\n",
    "A nuclear core is defined by various fuel bundles (624 in our case).\n",
    "SIMULATE is a nuclear core code that give us results for each fuel bundle.\n",
    "PARCS is a neutronic code fuel bundle.\n",
    "TRAC is a Thermo-hydraulic code that simulates the nuclear power plant hydraulics.\n",
    "\n",
    "TRAC cannot work with the 624 fuel bundles so they are grouped into CHAN components and each chan represents __n__ fuel bundles.\n",
    "\n",
    "__cosimtracpro__ tool and lib goal is to read data from SIMULATE outputs and group the fuel bundles into the chan elements.\n",
    "For some transient analysis for licensing a coupled code is used (TRAC-PARCS).\n",
    "\n",
    "So __cosimtracpro__ at the end this tool should help user to build PARCS inputs and TRAC inputs in orer to perform those simulations and analysis from SIMULATE outputs."
   ]
  },
  {
   "cell_type": "code",
   "execution_count": 1,
   "metadata": {
    "collapsed": false
   },
   "outputs": [
    {
     "ename": "ImportError",
     "evalue": "No module named 'cosimtracpro'",
     "output_type": "error",
     "traceback": [
      "\u001b[0;31m---------------------------------------------------------------------------\u001b[0m",
      "\u001b[0;31mImportError\u001b[0m                               Traceback (most recent call last)",
      "\u001b[0;32m<ipython-input-1-f1f2df6bc685>\u001b[0m in \u001b[0;36m<module>\u001b[0;34m()\u001b[0m\n\u001b[1;32m      5\u001b[0m \u001b[0;32mtry\u001b[0m\u001b[0;34m:\u001b[0m\u001b[0;34m\u001b[0m\u001b[0m\n\u001b[0;32m----> 6\u001b[0;31m     \u001b[0;32mimport\u001b[0m \u001b[0mcosimtracpro\u001b[0m\u001b[0;34m\u001b[0m\u001b[0m\n\u001b[0m\u001b[1;32m      7\u001b[0m \u001b[0;32mexcept\u001b[0m \u001b[0mImportError\u001b[0m\u001b[0;34m:\u001b[0m\u001b[0;34m\u001b[0m\u001b[0m\n",
      "\u001b[0;31mImportError\u001b[0m: No module named 'cosimtracpro'",
      "\nDuring handling of the above exception, another exception occurred:\n",
      "\u001b[0;31mImportError\u001b[0m                               Traceback (most recent call last)",
      "\u001b[0;32m<ipython-input-1-f1f2df6bc685>\u001b[0m in \u001b[0;36m<module>\u001b[0;34m()\u001b[0m\n\u001b[1;32m      8\u001b[0m     \u001b[0;32mimport\u001b[0m \u001b[0msys\u001b[0m\u001b[0;34m\u001b[0m\u001b[0m\n\u001b[1;32m      9\u001b[0m     \u001b[0msys\u001b[0m\u001b[0;34m.\u001b[0m\u001b[0mpath\u001b[0m\u001b[0;34m.\u001b[0m\u001b[0mappend\u001b[0m\u001b[0;34m(\u001b[0m\u001b[0;34m'..'\u001b[0m\u001b[0;34m)\u001b[0m\u001b[0;34m\u001b[0m\u001b[0m\n\u001b[0;32m---> 10\u001b[0;31m     \u001b[0;32mimport\u001b[0m \u001b[0mcosimtracpro\u001b[0m\u001b[0;34m\u001b[0m\u001b[0m\n\u001b[0m\u001b[1;32m     11\u001b[0m \u001b[0;34m\u001b[0m\u001b[0m\n\u001b[1;32m     12\u001b[0m \u001b[0;31m# first go to the download section in repository and download and  unzip scram61.zip\u001b[0m\u001b[0;34m\u001b[0m\u001b[0;34m\u001b[0m\u001b[0m\n",
      "\u001b[0;31mImportError\u001b[0m: No module named 'cosimtracpro'"
     ]
    }
   ],
   "source": [
    "# Basic usage of cosimtracpro as a python lib.\n",
    "# if you installed the package you can import the module directly.\n",
    "# if you cloned/downloaded the packages you must add it to the system path\n",
    "import os\n",
    "try:\n",
    "    import cosimtracpro\n",
    "except ImportError:\n",
    "    import sys\n",
    "    sys.path.append('..')\n",
    "    import cosimtracpro\n",
    "    \n",
    "# first go to the download section in repository and download and  unzip scram61.zip\n",
    "# then import needed functions and parse it into a container:\n",
    "from cosimtracpro.fileparsers import validateinputfiles, parsefiles, buildchanlist, chanlist2json\n",
    "# validate files given as inputs:\n",
    "validatedfiles = validateinputfiles([os.path.join('..','scram61','ciclo5','SUMMARY')])\n",
    "# parsing results:\n",
    "parsingresults = parsefiles(validatedfiles)\n",
    "# build information container\n",
    "chancontainer = buildchanlist(parsingresults)\n",
    "# Note: the chanlist is a ordered dict from collections.\n",
    "# to transfor in a normal list of obeject \n",
    "chanlist = list(chancontainer.values())"
   ]
  },
  {
   "cell_type": "code",
   "execution_count": null,
   "metadata": {
    "collapsed": false
   },
   "outputs": [],
   "source": [
    "# Visual Exploration:\n",
    "# pivottablejs:\n",
    "chanlistdict = []\n",
    "for element in chancontainer.values():\n",
    "        values = dict()\n",
    "        values['code'] = element.code\n",
    "        values['label'] = element.label\n",
    "        values['num'] = element.num\n",
    "        values['numwithreflectors'] = element.numwithreflectors\n",
    "        values['chanlocation.quadrant'] = element.chanlocation.quadrant\n",
    "        values['chanlocation.cart'] = element.chanlocation.cart\n",
    "        values['chanlocation.table'] = element.chanlocation.table\n",
    "        values['chanlocation.polar'] = element.chanlocation.polar\n",
    "        values['fuelgroup'] = element.fuelgroup\n",
    "        values['fueltype'] = element.fueltype\n",
    "        values['apl2d'] = element.apl2d\n",
    "        values['flo2d'] = element.flo2d\n",
    "        values['lk12d'] = element.lk12d\n",
    "        values['lk22d'] = element.lk22d\n",
    "        values['lk32d'] = element.lk32d\n",
    "        values['win2d'] = element.win2d\n",
    "        values['exp2d'] = element.exp2d\n",
    "        values['rpf2d'] = element.rpf2d\n",
    "        # values['rpf3d'] = element.rpf3d\n",
    "        chanlistdict.append(values)\n",
    "import pandas as pd\n",
    "from IPython.display import display, HTML\n",
    "df = pd.DataFrame(chanlistdict)\n",
    "display(df)"
   ]
  },
  {
   "cell_type": "code",
   "execution_count": null,
   "metadata": {
    "collapsed": false
   },
   "outputs": [],
   "source": [
    "from pivottablejs import pivot_ui\n",
    "pivot_ui(df)"
   ]
  },
  {
   "cell_type": "code",
   "execution_count": null,
   "metadata": {
    "collapsed": false
   },
   "outputs": [],
   "source": [
    "# Visual Exploration:\n",
    "# Scatter maps:\n",
    "# first let give someformat to the data:\n",
    "heatchanlist_x = [chan.chanlocation.cart[0] for chan in chanlist]\n",
    "heatchanlist_y = [chan.chanlocation.cart[1] for chan in chanlist]\n",
    "heatchanlist_z = [chan.rpf2d for chan in chanlist]\n",
    "heatchanlist_text = [chan.fuelgroup for chan in chanlist]\n",
    "#heatchanlist_z = [chan.rpf2d for chan in chanlist]\n",
    "annotations = [{'text':str(chan.chanlocation.quadrant)} for chan in chanlist]\n",
    "import plotly\n",
    "plotly.offline.init_notebook_mode()\n",
    "import plotly.plotly as py\n",
    "from plotly.graph_objs import *\n",
    "\n",
    "data = Data([\n",
    "    Scatter(\n",
    "        x=heatchanlist_x,\n",
    "        y=heatchanlist_y,\n",
    "        text=heatchanlist_text,\n",
    "        marker=Marker(\n",
    "            size=15,\n",
    "            # cmax=39,\n",
    "            # cmin=0,\n",
    "            symbol='hexagon',\n",
    "            color=heatchanlist_z,\n",
    "            colorbar=ColorBar(\n",
    "                title='Relative Power'\n",
    "            ),\n",
    "            colorscale = [[0, '#0000FF'],[0.5, '#FFFF00'] ,[1, '#FF0000']]\n",
    "        ),\n",
    "        mode='markers')\n",
    "])\n",
    "\n",
    "fig = Figure(data=data)\n",
    "fig['layout'].update(width = 750, height = 750)\n",
    "\n",
    "plotly.offline.iplot(fig)\n",
    "# plotly.offline.plot(fig)"
   ]
  },
  {
   "cell_type": "code",
   "execution_count": null,
   "metadata": {
    "collapsed": false
   },
   "outputs": [],
   "source": [
    "# to short data one can use the following:\n",
    "import operator\n",
    "chanlist.sort(key=operator.attrgetter('chanlocation.quadrant','fuelgroup','apl2d'))\n",
    "# sorted(chanlist,key=operator.attrgetter('chanlocation.quadrant'))\n",
    "## To be continued"
   ]
  }
 ],
 "metadata": {
  "celltoolbar": "Raw Cell Format",
  "kernelspec": {
   "display_name": "Python 3",
   "language": "python",
   "name": "python3"
  },
  "language_info": {
   "codemirror_mode": {
    "name": "ipython",
    "version": 3
   },
   "file_extension": ".py",
   "mimetype": "text/x-python",
   "name": "python",
   "nbconvert_exporter": "python",
   "pygments_lexer": "ipython3",
   "version": "3.5.2"
  }
 },
 "nbformat": 4,
 "nbformat_minor": 0
}
